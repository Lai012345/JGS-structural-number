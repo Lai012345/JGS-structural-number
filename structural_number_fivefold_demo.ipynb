{
 "cells": [
  {
   "cell_type": "markdown",
   "id": "7ad39f35",
   "metadata": {},
   "source": [
    "# Structural Number System – Five‑Module Demonstration"
   ]
  },
  {
   "cell_type": "markdown",
   "id": "39ea9160",
   "metadata": {},
   "source": [
    "## 1. Tension‑evolution structural numbers"
   ]
  },
  {
   "cell_type": "code",
   "execution_count": null,
   "id": "c0a99704",
   "metadata": {},
   "outputs": [],
   "source": [
    "\n",
    "A, B, C = \"A\", \"B\", \"C\"\n",
    "\n",
    "def generate_tension_structures(n):\n",
    "    S0 = (A, B, C)\n",
    "    S1 = (B, A, C)\n",
    "    structures = [S0, S1]\n",
    "    for i in range(2, n+1):\n",
    "        structures.append((structures[i-1], S1, \"⊕\"))\n",
    "    return structures\n",
    "\n",
    "tension_structs = generate_tension_structures(5)\n",
    "for idx, s in enumerate(tension_structs):\n",
    "    print(f\"S{idx} =\", s)\n"
   ]
  },
  {
   "cell_type": "markdown",
   "id": "bfe050ae",
   "metadata": {},
   "source": [
    "## 2. Fibonacci‑style numeric structural numbers"
   ]
  },
  {
   "cell_type": "code",
   "execution_count": null,
   "id": "4c5a22d1",
   "metadata": {},
   "outputs": [],
   "source": [
    "\n",
    "def generate_fibo_structures(n):\n",
    "    S0 = (0, 0, \"+\")\n",
    "    S1 = (1, 0, \"+\")\n",
    "    structures = [S0, S1]\n",
    "    for i in range(2, n+1):\n",
    "        val1 = structures[i-1][0]\n",
    "        val2 = structures[i-2][0]\n",
    "        new_val = val1 + val2\n",
    "        structures.append((new_val, val1, \"+\"))\n",
    "    return structures\n",
    "\n",
    "fibo_structs = generate_fibo_structures(10)\n",
    "for idx, s in enumerate(fibo_structs):\n",
    "    print(f\"S{idx} =\", s)\n"
   ]
  },
  {
   "cell_type": "markdown",
   "id": "b5471612",
   "metadata": {},
   "source": [
    "## 3. FocusedValue helper class"
   ]
  },
  {
   "cell_type": "code",
   "execution_count": null,
   "id": "54f590fc",
   "metadata": {},
   "outputs": [],
   "source": [
    "\n",
    "from dataclasses import dataclass\n",
    "\n",
    "@dataclass\n",
    "class FocusedValue:\n",
    "    value: int\n",
    "    is_focused: bool\n",
    "    def structural_amount(self):\n",
    "        return self.value if self.is_focused else 0\n",
    "\n",
    "def structural_sum(items):\n",
    "    return sum(i.structural_amount() for i in items)\n",
    "\n",
    "def focus_count(items):\n",
    "    return sum(1 for i in items if i.is_focused)\n"
   ]
  },
  {
   "cell_type": "markdown",
   "id": "c33e23e8",
   "metadata": {},
   "source": [
    "## 4. Coin example – 0/1 manifest test"
   ]
  },
  {
   "cell_type": "code",
   "execution_count": null,
   "id": "9fbea7dd",
   "metadata": {},
   "outputs": [],
   "source": [
    "\n",
    "coins = [\n",
    "    FocusedValue(0, True),\n",
    "    FocusedValue(0, False),\n",
    "    FocusedValue(1, True),\n",
    "    FocusedValue(1, False)\n",
    "]\n",
    "\n",
    "print('Classical sum:', sum(c.value for c in coins))\n",
    "print('Structural sum:', structural_sum(coins))\n",
    "print('Focus count   :', focus_count(coins))\n"
   ]
  },
  {
   "cell_type": "markdown",
   "id": "1790fcb8",
   "metadata": {},
   "source": [
    "## 5. Wallet example – NULL vs 0"
   ]
  },
  {
   "cell_type": "code",
   "execution_count": null,
   "id": "532d2d70",
   "metadata": {},
   "outputs": [],
   "source": [
    "\n",
    "wallets = [\n",
    "    FocusedValue(0, False),\n",
    "    FocusedValue(0, True),\n",
    "    FocusedValue(150, True),\n",
    "    FocusedValue(200, False)\n",
    "]\n",
    "\n",
    "print('All values sum           :', sum(w.value for w in wallets))\n",
    "print('Usable cash (struct_sum) :', structural_sum(wallets))\n",
    "print('Active wallets           :', focus_count(wallets))\n"
   ]
  }
 ],
 "metadata": {},
 "nbformat": 4,
 "nbformat_minor": 5
}
