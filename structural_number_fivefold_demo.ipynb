# Structural Number System – Five-Module Demo (v2)

# ---------------- 1. 张力结构递归 ----------------
A, B, C = "A", "B", "C"
def generate_tension(n):
    S0, S1 = (A,B,C), (B,A,C)
    lst=[S0,S1]
    for i in range(2,n+1):
        lst.append((lst[i-1], S1, "⊕"))
    return lst
for i,s in enumerate(generate_tension(5)): print("T",i,s)

# ---------------- 2. Exchangeon + 机制位 ----------------
from dataclasses import dataclass
from typing import Callable, Any
@dataclass
class Exchangeon:
    bg:Any; fg:Any; mech:Callable[[Any,Any],Any]
    def value(self): return self.mech(self.bg,self.fg)

def plus(x,y):          # 示例机制：数值加 / 非数值拼元组
    return x+y if all(isinstance(t,(int,float)) for t in (x,y)) else (x,y)

def gen_exchangeon(n):
    S0,S1 = Exchangeon(0,0,plus), Exchangeon(1,0,plus)
    seq=[S0,S1]
    for i in range(2,n+1):
        seq.append( Exchangeon(seq[i-1].value(), seq[i-2].value(), plus) )
    return seq
for i,e in enumerate(gen_exchangeon(10)): print("E",i,e.value())

# ---------------- 3. FocusedValue 基础类 ----------------
@dataclass
class FocusedValue:
    value:int; focus:bool
    def structural_amount(self): return self.value if self.focus else 0
def structural_sum(arr): return sum(x.structural_amount() for x in arr)
def focus_count(arr): return sum(1 for x in arr if x.focus)

# ---------------- 4. 硬币显现示例 ----------------
coins=[FocusedValue(0,True),FocusedValue(0,False),
       FocusedValue(1,True),FocusedValue(1,False)]
print("\nCoin classical:",sum(c.value for c in coins))
print("Coin structural:",structural_sum(coins))
print("Coin focus:",focus_count(coins))

# ---------------- 5. 钱包 NULL/0 区分 ----------------
wallets=[FocusedValue(0,False),FocusedValue(0,True),
         FocusedValue(150,True),FocusedValue(200,False)]
print("\nAll sum:",sum(w.value for w in wallets))
print("Usable cash:",structural_sum(wallets))
print("Active wallets:",focus_count(wallets))
