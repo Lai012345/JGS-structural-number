{
 "cells": [
  {
   "cell_type": "markdown",
   "id": "23ff58b6",
   "metadata": {},
   "source": [
    "# Structural Number System – Five‑Module Demo (v2)\n",
    "包含 Exchangeon 机制位的改进版"
   ]
  },
  {
   "cell_type": "markdown",
   "id": "b2abf8b1",
   "metadata": {},
   "source": [
    "## 1  张力结构递归示例"
   ]
  },
  {
   "cell_type": "code",
   "execution_count": null,
   "id": "8624b6b2",
   "metadata": {},
   "outputs": [],
   "source": [
    "\n",
    "A, B, C = \"A\", \"B\", \"C\"\n",
    "def generate_tension(n):\n",
    "    S0, S1 = (A, B, C), (B, A, C)\n",
    "    lst = [S0, S1]\n",
    "    for i in range(2, n+1):\n",
    "        lst.append((lst[i-1], S1, \"⊕\"))\n",
    "    return lst\n",
    "\n",
    "for i, s in enumerate(generate_tension(5)):\n",
    "    print(f\"S{i} =\", s)\n"
   ]
  },
  {
   "cell_type": "markdown",
   "id": "d3e7f77e",
   "metadata": {},
   "source": [
    "## 2  Exchangeon 结构数（含机制位）"
   ]
  },
  {
   "cell_type": "code",
   "execution_count": null,
   "id": "c7ee9f5f",
   "metadata": {},
   "outputs": [],
   "source": [
    "\n",
    "from dataclasses import dataclass\n",
    "from typing import Callable, Any\n",
    "\n",
    "@dataclass\n",
    "class Exchangeon:\n",
    "    bg: Any\n",
    "    fg: Any\n",
    "    mech: Callable[[Any, Any], Any]\n",
    "    def value(self):\n",
    "        return self.mech(self.bg, self.fg)\n",
    "\n",
    "def plus(x, y):\n",
    "    return x + y if all(isinstance(t, (int, float)) for t in (x, y)) else (x, y)\n",
    "\n",
    "def gen_exchangeon(n):\n",
    "    S0, S1 = Exchangeon(0, 0, plus), Exchangeon(1, 0, plus)\n",
    "    seq = [S0, S1]\n",
    "    for i in range(2, n+1):\n",
    "        seq.append(Exchangeon(seq[i-1].value(), seq[i-2].value(), plus))\n",
    "    return seq\n",
    "\n",
    "for i, e in enumerate(gen_exchangeon(10)):\n",
    "    print(f\"E{i}.value() =\", e.value())\n"
   ]
  },
  {
   "cell_type": "markdown",
   "id": "ac8a272e",
   "metadata": {},
   "source": [
    "## 3  FocusedValue 基础类"
   ]
  },
  {
   "cell_type": "code",
   "execution_count": null,
   "id": "886254e7",
   "metadata": {},
   "outputs": [],
   "source": [
    "\n",
    "from dataclasses import dataclass\n",
    "\n",
    "@dataclass\n",
    "class FocusedValue:\n",
    "    value: int\n",
    "    focus: bool\n",
    "    def structural_amount(self):\n",
    "        return self.value if self.focus else 0\n",
    "\n",
    "def structural_sum(arr):\n",
    "    return sum(x.structural_amount() for x in arr)\n",
    "\n",
    "def focus_count(arr):\n",
    "    return sum(1 for x in arr if x.focus)\n"
   ]
  },
  {
   "cell_type": "markdown",
   "id": "09c1ed09",
   "metadata": {},
   "source": [
    "## 4  硬币显现示例"
   ]
  },
  {
   "cell_type": "code",
   "execution_count": null,
   "id": "e1a85a8f",
   "metadata": {},
   "outputs": [],
   "source": [
    "\n",
    "coins = [\n",
    "    FocusedValue(0, True),\n",
    "    FocusedValue(0, False),\n",
    "    FocusedValue(1, True),\n",
    "    FocusedValue(1, False)\n",
    "]\n",
    "print('Classical sum:', sum(c.value for c in coins))\n",
    "print('Structural sum:', structural_sum(coins))\n",
    "print('Focus count   :', focus_count(coins))\n"
   ]
  },
  {
   "cell_type": "markdown",
   "id": "1d6180df",
   "metadata": {},
   "source": [
    "## 5  钱包 NULL / 0 区分示例"
   ]
  },
  {
   "cell_type": "code",
   "execution_count": null,
   "id": "b86ed40b",
   "metadata": {},
   "outputs": [],
   "source": [
    "\n",
    "wallets = [\n",
    "    FocusedValue(0, False),     # 未绑定\n",
    "    FocusedValue(0, True),      # 余额为 0\n",
    "    FocusedValue(150, True),    # 余额 150\n",
    "    FocusedValue(200, False)    # 默认200但未绑定\n",
    "]\n",
    "print('All values sum           :', sum(w.value for w in wallets))\n",
    "print('Usable cash (struct_sum) :', structural_sum(wallets))\n",
    "print('Active wallets           :', focus_count(wallets))\n"
   ]
  }
 ],
 "metadata": {},
 "nbformat": 4,
 "nbformat_minor": 5
}
